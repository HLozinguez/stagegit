{
 "cells": [
  {
   "cell_type": "markdown",
   "metadata": {},
   "source": [
    "\t\t\t\t\t\n",
    "H, Lozinguez\n",
    "\n",
    "<h2>Fiche de lecture de « Seeing action simulation as it unfolds: The implicit eﬀects of action scenes on muscle contraction evidenced through the use of a grip-force sensor » de J, Blampain et al</h2>\n",
    "\n",
    "\n",
    "\n",
    "\n",
    "\n",
    "Cet article, et recherche, sont réalisées par J, Blampain et al. Elle a pour but de mesurer l'effet de regarder une action sur la contraction des muscles, à l'aide d'une cellule mesurant la force de grip.\n",
    "\n",
    "<ul>\n",
    "<li>Contexte : La simulation d’action est un procédé cognitif connu, simulant mentalement des actes moteurs que l’on voit sans pour autant faire le mouvement. Néanmoins, il n’y avait pas de technique permettant de bien mesurer ce processus de façon non invasif, c’est pour cela que ces chercheurs se sont intéressé à une cellule de force.</li>\n",
    "<br>\n",
    "<li>Méthodologie : Cette expérience consistait à mettre les participants devant des vidéos, avec une cellule de force dans la main et de mesurer le micro pression sur cette dernière. Il y avait des vidéos différents avec des stimuli d’intensité différents, et des questionnaires pour finir.</li>\n",
    "<br>\n",
    "<li>VI : Vidéo soit d'action, soit de non actions, faites soit avec la main, soit avec le pied et des vidéos d'intensité différentes (Low, Middle, High et Wait)</li>\n",
    "<br>\n",
    "<li>VD : L'amplitude de force de prise et la variation de force de prise sont les variables mesurée, toutes deux en mN, car ce sont des micro pression, totalement inconsciente</li>\n",
    "<br>\n",
    "<li>Résultats : Les résultats nous permettent de voir que, quand les participants regardent une actions, la variation de la grip force va augmenter après que l'action soit réalisé.\n",
    "<img src=\"files/Fraise.png\">\n",
    "De plus, plus le mouvement est intense, plus la variation est élevée, avec la moyenne de Move et Crush étant pratiquement la même, mais très différents quand on regarde pied vs main, comme on peut le voir ci-dessous :\n",
    "<img src=\"files/compa.png\">\n",
    "Selon ma compréhension, on pourrait donc imaginer que les humains ont une sorte de neurone miroir, comme observée dans le domaine animal, notamment les singes, et que son activation serait observable à l’aide de micro pression.</li>\n",
    "</ul>\n",
    "Les chercheurs, à l’aide de cette expérience, on donc conclu qu’il est possible d’utiliser un détecteur non invasif pour détecter quand un individu est engagé de façon cognitive dans une simulation d’action."
   ]
  },
  {
   "cell_type": "markdown",
   "metadata": {},
   "source": [
    "   "
   ]
  },
  {
   "cell_type": "markdown",
   "metadata": {},
   "source": [
    "<h2>Fiche de lecture de « Apparent mental causation. Source of the Experience of Will » de Wegner et Wheatley</h2>\n",
    "<ul>\n",
    "<li>Contexte : Les écrivains nous expliquent que le concept de volonté consciente, un concept que tout le monde ressent et que beaucoup de chercheurs avant eux en essayer de traiter, mais que ce que la communauté scientifique sait sur ce dernier ne leur paraît pas très psychologique, ceux pourquoi ils ont écrit cet article.</li>\n",
    "\n",
    "<li>Méthodologie : Pour la majorité de l’article, Wegner et Wheatley reprennent des papiers pour essayer de définir les concepts nécessaires pour avoir l’impression que l’on produit une action. Ils définissent ces concepts comme étant : Priority, consistency et exclusivity, et vont ensuite faire une expérience pour essayer de prouver cela. Cette expérience consiste à avoir les participants avaient comme tache de stopper une souris d’ordinateur à certain moment, alors qu’ils écoutaient de la musique et des mots à l’aide d’écouteur. En même temps, un « complice » bougeait aussi la souris, mais lui avait des instructions sur comment déplacer cette dernière. Les sujets devaient ensuite remplir un formulaire pour dire à quel point leur stop leur paraissaient conscient.</li>\n",
    "\n",
    "<li>VI : Les mots que le sujet entendait, et surtout quand est-ce qu’il l’entendait.</li>\n",
    "\n",
    "<li>VD : La note subjective mise par le sujet sur l’intention de leur arrêt.</li>\n",
    "\n",
    "<li>Résultats : Comme on peut l’observer ici, le sujet considère comme intentionnel leur mouvement quand il se passe relativement proche du moment où ils y ont pensé (ici parce qu’ils ont entendu le mot). Avec un pourcentage très faible à 30 secondes avant, et 1 secondes après, mais beaucoup plus élevé 5, et une seconde avant.\n",
    "<img src=\"fig3.png\"></li>\n",
    "</ul>"
   ]
  },
  {
   "cell_type": "markdown",
   "metadata": {},
   "source": [
    "   "
   ]
  },
  {
   "cell_type": "markdown",
   "metadata": {},
   "source": [
    "<h2>Proposition de plan de l'expérience AAGRIP</h2>\n",
    "\n",
    "Accueillir les sujets dans la salle, et leur faire signer le consentement éclairé pour commencer. Ensuite leur donner un questionnaire préliminaire pour juger de leur niveau d’expertise, avec des questions du genre « jouez-vous d’un instrument ? Lequel ? Depuis quand ? Ecoutez-vous de la musique électro ? En concert ? ».\n",
    "Ensuite les mettre devant l’écran et leur expliquer comment tenir la cellule de force, calibrer leur pression à une certaine force. Puis commencer à leur montrer les stimuli différents, des stimuli tous filmés de la même manière, avec un angle similaire et une position initiale similaire, où une personne va faire un mouvement qui va changer une musique présente préalablement, histoire d’éviter un effet de surprise si une musique apparaît d’un coup. Cette action peut être simple et transparente tel appuyer sur un bouton d’un clavier pour changer le sample présent, ou bien plus complexe, et non transparente, du style faire un mouvement non logique qui impact la musique (comme avec l’exemple guitare). Les stimuli peuvent aussi avoir des augmentation, les seat. Pendant que l’on leur montre ces stimuli, il faut enregistrer les micropression observées sur la cellule de force.\n",
    "Ensuite il faudra séparer les données en deux groupe, dépendant de leur expérience que nous avons à l’aide des questionnaires préliminaire.\n",
    "\n",
    "<ul>\n",
    "\n",
    "<li>VI : Niveau d’expertise, les stimuli montré  (le stimulus en lui même, congruent ou non, si il y a des SEATs ou non).</li>\n",
    "\n",
    "<li>VD : Les micropressions (mesurée à l’aide d’AAGRIP).</li>\n",
    "\n",
    "<li>Type de plan : Groupes indépendants, séparés par rapport au niveau pour voir si il y a une impact de ce dernier sur la perception.</li>\n",
    "\n",
    "| Stimuli   | Groupe|\n",
    "|------|------|\n",
    "|Toutes les VI différents  | Groupe non expérimenté|\n",
    "|Toutes les VI différents  | Groupe expérimenté|\n",
    "</ul>"
   ]
  }
 ],
 "metadata": {
  "kernelspec": {
   "display_name": "Python 3",
   "language": "python",
   "name": "python3"
  },
  "language_info": {
   "codemirror_mode": {
    "name": "ipython",
    "version": 2
   },
   "file_extension": ".py",
   "mimetype": "text/x-python",
   "name": "python",
   "nbconvert_exporter": "python",
   "pygments_lexer": "ipython2",
   "version": "2.7.17"
  }
 },
 "nbformat": 4,
 "nbformat_minor": 2
}
